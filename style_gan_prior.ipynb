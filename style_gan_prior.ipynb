{
  "nbformat": 4,
  "nbformat_minor": 0,
  "metadata": {
    "colab": {
      "name": "style_gan_prior.ipynb",
      "provenance": [],
      "collapsed_sections": [],
      "toc_visible": true,
      "include_colab_link": true
    },
    "kernelspec": {
      "name": "python3",
      "display_name": "Python 3"
    },
    "accelerator": "GPU"
  },
  "cells": [
    {
      "cell_type": "markdown",
      "metadata": {
        "id": "view-in-github",
        "colab_type": "text"
      },
      "source": [
        "<a href=\"https://colab.research.google.com/github/ShimonBezalel/style_gan_prior/blob/master/style_gan_prior.ipynb\" target=\"_parent\"><img src=\"https://colab.research.google.com/assets/colab-badge.svg\" alt=\"Open In Colab\"/></a>"
      ]
    },
    {
      "cell_type": "code",
      "metadata": {
        "id": "MHywfZhCIlUL",
        "colab_type": "code",
        "colab": {
          "base_uri": "https://localhost:8080/"
        },
        "outputId": "4e12f6fe-9016-4961-917d-5aed5659de31"
      },
      "source": [
        "from google.colab import drive\n",
        "drive.mount('/content/drive', force_remount=True)"
      ],
      "execution_count": 24,
      "outputs": [
        {
          "output_type": "stream",
          "text": [
            "Mounted at /content/drive\n"
          ],
          "name": "stdout"
        }
      ]
    },
    {
      "cell_type": "code",
      "metadata": {
        "id": "FzejlCQMr23z",
        "colab_type": "code",
        "colab": {
          "base_uri": "https://localhost:8080/"
        },
        "outputId": "f3ece92c-5068-4e7b-d00a-74b6e248db54"
      },
      "source": [
        "!cp \"drive/My Drive/colab/style_gan_prior/perceptual_model.py\" .\n",
        "!cp \"drive/My Drive/colab/style_gan_prior/inversion.py\" .\n",
        "!cp \"drive/My Drive/colab/style_gan_prior/inpainting.py\" .\n",
        "!cp \"drive/My Drive/colab/style_gan_prior/super_resolution.py\" .\n",
        "!cp \"drive/My Drive/colab/style_gan_prior/karras2019stylegan-ffhq-1024x1024.pkl\" .\n",
        "!cp -r \"drive/My Drive/colab/style_gan_prior/imgs_dir\" .\n",
        "\n",
        "%load_ext autoreload\n",
        "%autoreload 2\n"
      ],
      "execution_count": 25,
      "outputs": [
        {
          "output_type": "error",
          "ename": "KeyboardInterrupt",
          "evalue": "ignored",
          "traceback": [
            "\u001b[0;31m---------------------------------------------------------------------------\u001b[0m",
            "\u001b[0;31mKeyboardInterrupt\u001b[0m                         Traceback (most recent call last)",
            "\u001b[0;32m<ipython-input-25-d0483f812736>\u001b[0m in \u001b[0;36m<module>\u001b[0;34m()\u001b[0m\n\u001b[1;32m      2\u001b[0m \u001b[0mget_ipython\u001b[0m\u001b[0;34m(\u001b[0m\u001b[0;34m)\u001b[0m\u001b[0;34m.\u001b[0m\u001b[0msystem\u001b[0m\u001b[0;34m(\u001b[0m\u001b[0;34m'cp \"drive/My Drive/colab/style_gan_prior/inversion.py\" .'\u001b[0m\u001b[0;34m)\u001b[0m\u001b[0;34m\u001b[0m\u001b[0;34m\u001b[0m\u001b[0m\n\u001b[1;32m      3\u001b[0m \u001b[0mget_ipython\u001b[0m\u001b[0;34m(\u001b[0m\u001b[0;34m)\u001b[0m\u001b[0;34m.\u001b[0m\u001b[0msystem\u001b[0m\u001b[0;34m(\u001b[0m\u001b[0;34m'cp \"drive/My Drive/colab/style_gan_prior/inpainting.py\" .'\u001b[0m\u001b[0;34m)\u001b[0m\u001b[0;34m\u001b[0m\u001b[0;34m\u001b[0m\u001b[0m\n\u001b[0;32m----> 4\u001b[0;31m \u001b[0mget_ipython\u001b[0m\u001b[0;34m(\u001b[0m\u001b[0;34m)\u001b[0m\u001b[0;34m.\u001b[0m\u001b[0msystem\u001b[0m\u001b[0;34m(\u001b[0m\u001b[0;34m'cp \"drive/My Drive/colab/style_gan_prior/super_resolution.py\" .'\u001b[0m\u001b[0;34m)\u001b[0m\u001b[0;34m\u001b[0m\u001b[0;34m\u001b[0m\u001b[0m\n\u001b[0m\u001b[1;32m      5\u001b[0m \u001b[0mget_ipython\u001b[0m\u001b[0;34m(\u001b[0m\u001b[0;34m)\u001b[0m\u001b[0;34m.\u001b[0m\u001b[0msystem\u001b[0m\u001b[0;34m(\u001b[0m\u001b[0;34m'cp \"drive/My Drive/colab/style_gan_prior/karras2019stylegan-ffhq-1024x1024.pkl\" .'\u001b[0m\u001b[0;34m)\u001b[0m\u001b[0;34m\u001b[0m\u001b[0;34m\u001b[0m\u001b[0m\n\u001b[1;32m      6\u001b[0m \u001b[0mget_ipython\u001b[0m\u001b[0;34m(\u001b[0m\u001b[0;34m)\u001b[0m\u001b[0;34m.\u001b[0m\u001b[0msystem\u001b[0m\u001b[0;34m(\u001b[0m\u001b[0;34m'cp -r \"drive/My Drive/colab/style_gan_prior/imgs_dir\" .'\u001b[0m\u001b[0;34m)\u001b[0m\u001b[0;34m\u001b[0m\u001b[0;34m\u001b[0m\u001b[0m\n",
            "\u001b[0;32m/usr/local/lib/python3.6/dist-packages/google/colab/_shell.py\u001b[0m in \u001b[0;36msystem\u001b[0;34m(self, *args, **kwargs)\u001b[0m\n\u001b[1;32m    100\u001b[0m       \u001b[0mkwargs\u001b[0m\u001b[0;34m.\u001b[0m\u001b[0mupdate\u001b[0m\u001b[0;34m(\u001b[0m\u001b[0;34m{\u001b[0m\u001b[0;34m'also_return_output'\u001b[0m\u001b[0;34m:\u001b[0m \u001b[0;32mTrue\u001b[0m\u001b[0;34m}\u001b[0m\u001b[0;34m)\u001b[0m\u001b[0;34m\u001b[0m\u001b[0;34m\u001b[0m\u001b[0m\n\u001b[1;32m    101\u001b[0m \u001b[0;34m\u001b[0m\u001b[0m\n\u001b[0;32m--> 102\u001b[0;31m     \u001b[0moutput\u001b[0m \u001b[0;34m=\u001b[0m \u001b[0m_system_commands\u001b[0m\u001b[0;34m.\u001b[0m\u001b[0m_system_compat\u001b[0m\u001b[0;34m(\u001b[0m\u001b[0mself\u001b[0m\u001b[0;34m,\u001b[0m \u001b[0;34m*\u001b[0m\u001b[0margs\u001b[0m\u001b[0;34m,\u001b[0m \u001b[0;34m**\u001b[0m\u001b[0mkwargs\u001b[0m\u001b[0;34m)\u001b[0m  \u001b[0;31m# pylint:disable=protected-access\u001b[0m\u001b[0;34m\u001b[0m\u001b[0;34m\u001b[0m\u001b[0m\n\u001b[0m\u001b[1;32m    103\u001b[0m \u001b[0;34m\u001b[0m\u001b[0m\n\u001b[1;32m    104\u001b[0m     \u001b[0;32mif\u001b[0m \u001b[0mpip_warn\u001b[0m\u001b[0;34m:\u001b[0m\u001b[0;34m\u001b[0m\u001b[0;34m\u001b[0m\u001b[0m\n",
            "\u001b[0;32m/usr/local/lib/python3.6/dist-packages/google/colab/_system_commands.py\u001b[0m in \u001b[0;36m_system_compat\u001b[0;34m(shell, cmd, also_return_output)\u001b[0m\n\u001b[1;32m    436\u001b[0m   \u001b[0;31m# stack.\u001b[0m\u001b[0;34m\u001b[0m\u001b[0;34m\u001b[0m\u001b[0;34m\u001b[0m\u001b[0m\n\u001b[1;32m    437\u001b[0m   result = _run_command(\n\u001b[0;32m--> 438\u001b[0;31m       shell.var_expand(cmd, depth=2), clear_streamed_output=False)\n\u001b[0m\u001b[1;32m    439\u001b[0m   \u001b[0mshell\u001b[0m\u001b[0;34m.\u001b[0m\u001b[0muser_ns\u001b[0m\u001b[0;34m[\u001b[0m\u001b[0;34m'_exit_code'\u001b[0m\u001b[0;34m]\u001b[0m \u001b[0;34m=\u001b[0m \u001b[0mresult\u001b[0m\u001b[0;34m.\u001b[0m\u001b[0mreturncode\u001b[0m\u001b[0;34m\u001b[0m\u001b[0;34m\u001b[0m\u001b[0m\n\u001b[1;32m    440\u001b[0m   \u001b[0;32mif\u001b[0m \u001b[0;34m-\u001b[0m\u001b[0mresult\u001b[0m\u001b[0;34m.\u001b[0m\u001b[0mreturncode\u001b[0m \u001b[0;32min\u001b[0m \u001b[0m_INTERRUPTED_SIGNALS\u001b[0m\u001b[0;34m:\u001b[0m\u001b[0;34m\u001b[0m\u001b[0;34m\u001b[0m\u001b[0m\n",
            "\u001b[0;32m/usr/local/lib/python3.6/dist-packages/google/colab/_system_commands.py\u001b[0m in \u001b[0;36m_run_command\u001b[0;34m(cmd, clear_streamed_output)\u001b[0m\n\u001b[1;32m    193\u001b[0m       \u001b[0mos\u001b[0m\u001b[0;34m.\u001b[0m\u001b[0mclose\u001b[0m\u001b[0;34m(\u001b[0m\u001b[0mchild_pty\u001b[0m\u001b[0;34m)\u001b[0m\u001b[0;34m\u001b[0m\u001b[0;34m\u001b[0m\u001b[0m\n\u001b[1;32m    194\u001b[0m \u001b[0;34m\u001b[0m\u001b[0m\n\u001b[0;32m--> 195\u001b[0;31m       \u001b[0;32mreturn\u001b[0m \u001b[0m_monitor_process\u001b[0m\u001b[0;34m(\u001b[0m\u001b[0mparent_pty\u001b[0m\u001b[0;34m,\u001b[0m \u001b[0mepoll\u001b[0m\u001b[0;34m,\u001b[0m \u001b[0mp\u001b[0m\u001b[0;34m,\u001b[0m \u001b[0mcmd\u001b[0m\u001b[0;34m,\u001b[0m \u001b[0mupdate_stdin_widget\u001b[0m\u001b[0;34m)\u001b[0m\u001b[0;34m\u001b[0m\u001b[0;34m\u001b[0m\u001b[0m\n\u001b[0m\u001b[1;32m    196\u001b[0m   \u001b[0;32mfinally\u001b[0m\u001b[0;34m:\u001b[0m\u001b[0;34m\u001b[0m\u001b[0;34m\u001b[0m\u001b[0m\n\u001b[1;32m    197\u001b[0m     \u001b[0mepoll\u001b[0m\u001b[0;34m.\u001b[0m\u001b[0mclose\u001b[0m\u001b[0;34m(\u001b[0m\u001b[0;34m)\u001b[0m\u001b[0;34m\u001b[0m\u001b[0;34m\u001b[0m\u001b[0m\n",
            "\u001b[0;32m/usr/lib/python3.6/contextlib.py\u001b[0m in \u001b[0;36m__exit__\u001b[0;34m(self, type, value, traceback)\u001b[0m\n\u001b[1;32m     86\u001b[0m         \u001b[0;32mif\u001b[0m \u001b[0mtype\u001b[0m \u001b[0;32mis\u001b[0m \u001b[0;32mNone\u001b[0m\u001b[0;34m:\u001b[0m\u001b[0;34m\u001b[0m\u001b[0;34m\u001b[0m\u001b[0m\n\u001b[1;32m     87\u001b[0m             \u001b[0;32mtry\u001b[0m\u001b[0;34m:\u001b[0m\u001b[0;34m\u001b[0m\u001b[0;34m\u001b[0m\u001b[0m\n\u001b[0;32m---> 88\u001b[0;31m                 \u001b[0mnext\u001b[0m\u001b[0;34m(\u001b[0m\u001b[0mself\u001b[0m\u001b[0;34m.\u001b[0m\u001b[0mgen\u001b[0m\u001b[0;34m)\u001b[0m\u001b[0;34m\u001b[0m\u001b[0;34m\u001b[0m\u001b[0m\n\u001b[0m\u001b[1;32m     89\u001b[0m             \u001b[0;32mexcept\u001b[0m \u001b[0mStopIteration\u001b[0m\u001b[0;34m:\u001b[0m\u001b[0;34m\u001b[0m\u001b[0;34m\u001b[0m\u001b[0m\n\u001b[1;32m     90\u001b[0m                 \u001b[0;32mreturn\u001b[0m \u001b[0;32mFalse\u001b[0m\u001b[0;34m\u001b[0m\u001b[0;34m\u001b[0m\u001b[0m\n",
            "\u001b[0;32m/usr/local/lib/python3.6/dist-packages/google/colab/_system_commands.py\u001b[0m in \u001b[0;36m_display_stdin_widget\u001b[0;34m(delay_millis)\u001b[0m\n\u001b[1;32m    353\u001b[0m \u001b[0;34m\u001b[0m\u001b[0m\n\u001b[1;32m    354\u001b[0m   \u001b[0mhide_args\u001b[0m \u001b[0;34m=\u001b[0m \u001b[0;34m[\u001b[0m\u001b[0;34m'cell_remove_stdin'\u001b[0m\u001b[0;34m,\u001b[0m \u001b[0;34m{\u001b[0m\u001b[0;34m}\u001b[0m\u001b[0;34m]\u001b[0m\u001b[0;34m\u001b[0m\u001b[0;34m\u001b[0m\u001b[0m\n\u001b[0;32m--> 355\u001b[0;31m   \u001b[0m_message\u001b[0m\u001b[0;34m.\u001b[0m\u001b[0mblocking_request\u001b[0m\u001b[0;34m(\u001b[0m\u001b[0;34m*\u001b[0m\u001b[0mhide_args\u001b[0m\u001b[0;34m,\u001b[0m \u001b[0mparent\u001b[0m\u001b[0;34m=\u001b[0m\u001b[0mshell\u001b[0m\u001b[0;34m.\u001b[0m\u001b[0mparent_header\u001b[0m\u001b[0;34m)\u001b[0m\u001b[0;34m\u001b[0m\u001b[0;34m\u001b[0m\u001b[0m\n\u001b[0m\u001b[1;32m    356\u001b[0m \u001b[0;34m\u001b[0m\u001b[0m\n\u001b[1;32m    357\u001b[0m \u001b[0;34m\u001b[0m\u001b[0m\n",
            "\u001b[0;32m/usr/local/lib/python3.6/dist-packages/google/colab/_message.py\u001b[0m in \u001b[0;36mblocking_request\u001b[0;34m(request_type, request, timeout_sec, parent)\u001b[0m\n\u001b[1;32m    169\u001b[0m   \u001b[0;31m# unique.\u001b[0m\u001b[0;34m\u001b[0m\u001b[0;34m\u001b[0m\u001b[0;34m\u001b[0m\u001b[0m\n\u001b[1;32m    170\u001b[0m   \u001b[0mrequest_id\u001b[0m \u001b[0;34m=\u001b[0m \u001b[0msend_request\u001b[0m\u001b[0;34m(\u001b[0m\u001b[0mrequest_type\u001b[0m\u001b[0;34m,\u001b[0m \u001b[0mrequest\u001b[0m\u001b[0;34m,\u001b[0m \u001b[0mparent\u001b[0m\u001b[0;34m=\u001b[0m\u001b[0mparent\u001b[0m\u001b[0;34m)\u001b[0m\u001b[0;34m\u001b[0m\u001b[0;34m\u001b[0m\u001b[0m\n\u001b[0;32m--> 171\u001b[0;31m   \u001b[0;32mreturn\u001b[0m \u001b[0mread_reply_from_input\u001b[0m\u001b[0;34m(\u001b[0m\u001b[0mrequest_id\u001b[0m\u001b[0;34m,\u001b[0m \u001b[0mtimeout_sec\u001b[0m\u001b[0;34m)\u001b[0m\u001b[0;34m\u001b[0m\u001b[0;34m\u001b[0m\u001b[0m\n\u001b[0m",
            "\u001b[0;32m/usr/local/lib/python3.6/dist-packages/google/colab/_message.py\u001b[0m in \u001b[0;36mread_reply_from_input\u001b[0;34m(message_id, timeout_sec)\u001b[0m\n\u001b[1;32m     99\u001b[0m     \u001b[0mreply\u001b[0m \u001b[0;34m=\u001b[0m \u001b[0m_read_next_input_message\u001b[0m\u001b[0;34m(\u001b[0m\u001b[0;34m)\u001b[0m\u001b[0;34m\u001b[0m\u001b[0;34m\u001b[0m\u001b[0m\n\u001b[1;32m    100\u001b[0m     \u001b[0;32mif\u001b[0m \u001b[0mreply\u001b[0m \u001b[0;34m==\u001b[0m \u001b[0m_NOT_READY\u001b[0m \u001b[0;32mor\u001b[0m \u001b[0;32mnot\u001b[0m \u001b[0misinstance\u001b[0m\u001b[0;34m(\u001b[0m\u001b[0mreply\u001b[0m\u001b[0;34m,\u001b[0m \u001b[0mdict\u001b[0m\u001b[0;34m)\u001b[0m\u001b[0;34m:\u001b[0m\u001b[0;34m\u001b[0m\u001b[0;34m\u001b[0m\u001b[0m\n\u001b[0;32m--> 101\u001b[0;31m       \u001b[0mtime\u001b[0m\u001b[0;34m.\u001b[0m\u001b[0msleep\u001b[0m\u001b[0;34m(\u001b[0m\u001b[0;36m0.025\u001b[0m\u001b[0;34m)\u001b[0m\u001b[0;34m\u001b[0m\u001b[0;34m\u001b[0m\u001b[0m\n\u001b[0m\u001b[1;32m    102\u001b[0m       \u001b[0;32mcontinue\u001b[0m\u001b[0;34m\u001b[0m\u001b[0;34m\u001b[0m\u001b[0m\n\u001b[1;32m    103\u001b[0m     if (reply.get('type') == 'colab_reply' and\n",
            "\u001b[0;31mKeyboardInterrupt\u001b[0m: "
          ]
        }
      ]
    },
    {
      "cell_type": "code",
      "metadata": {
        "id": "tX7bIt2RM-py",
        "colab_type": "code",
        "colab": {}
      },
      "source": [
        "!pip install tensorflow==1.15"
      ],
      "execution_count": null,
      "outputs": []
    },
    {
      "cell_type": "code",
      "metadata": {
        "id": "4D5djERvL6hF",
        "colab_type": "code",
        "colab": {}
      },
      "source": [
        "# add stylegan to repository and add path to pythonpath\n",
        "!git clone https://github.com/NVlabs/stylegan.git\n",
        "\n",
        "import sys\n",
        "sys.path.insert(1, \"stylegan\")"
      ],
      "execution_count": null,
      "outputs": []
    },
    {
      "cell_type": "code",
      "metadata": {
        "id": "mek0TDmwKaxz",
        "colab_type": "code",
        "colab": {}
      },
      "source": [
        "import os \n",
        "os.path.exists('stylegan')\n"
      ],
      "execution_count": null,
      "outputs": []
    },
    {
      "cell_type": "code",
      "metadata": {
        "id": "lDhHSPa2qMXD",
        "colab_type": "code",
        "colab": {}
      },
      "source": [
        "import perceptual_model\n",
        "import inversion\n",
        "import inpainting\n",
        "import super_resolution\n",
        "import numpy as np\n",
        "import pickle\n",
        "import os\n",
        "import imageio\n",
        "from tqdm import tqdm"
      ],
      "execution_count": null,
      "outputs": []
    },
    {
      "cell_type": "code",
      "metadata": {
        "id": "Y-QYer5wP-yT",
        "colab_type": "code",
        "colab": {}
      },
      "source": [
        "import numpy as np\n",
        "import scipy.stats as st\n",
        "def gen_gaussian_kernel(size=21, nsig=3):\n",
        "    \"\"\"Returns a 2D Gaussian kernel.\"\"\"\n",
        "    x = np.linspace(-nsig, nsig, size+1)\n",
        "    kern1d = np.diff(st.norm.cdf(x))\n",
        "    kern2d = np.outer(kern1d, kern1d)\n",
        "    return (kern2d/kern2d.sum()).astype(np.float32)\n",
        "\n"
      ],
      "execution_count": null,
      "outputs": []
    },
    {
      "cell_type": "code",
      "metadata": {
        "id": "ZJlLDiqdULMI",
        "colab_type": "code",
        "colab": {}
      },
      "source": [
        ""
      ],
      "execution_count": null,
      "outputs": []
    },
    {
      "cell_type": "code",
      "metadata": {
        "id": "IdftDb0EQ8c5",
        "colab_type": "code",
        "colab": {}
      },
      "source": [
        "gen_gaussian_kernel(21, 1)"
      ],
      "execution_count": null,
      "outputs": []
    },
    {
      "cell_type": "code",
      "metadata": {
        "id": "mpLQs0DQShs8",
        "colab_type": "code",
        "colab": {}
      },
      "source": [
        "np.sum(gen_gaussian_kernel(21, 1))\n"
      ],
      "execution_count": null,
      "outputs": []
    },
    {
      "cell_type": "markdown",
      "metadata": {
        "id": "4FvqsW3_S9a0",
        "colab_type": "text"
      },
      "source": [
        "### Code"
      ]
    },
    {
      "cell_type": "code",
      "metadata": {
        "id": "d0V9FBmBSmig",
        "colab_type": "code",
        "colab": {}
      },
      "source": [
        "\"Style Image Prior for Inpainting\"\n",
        "\"\"\"inpainting.py --imgs-dir <input-imgs-dir> --masks-dir <output-masks-dir>\n",
        "    --corruptions-dir <output-corruptions-dir> --restorations-dir <output-restorations-dir>\n",
        "    --latents-dir <output-latents-dir>\n",
        "    [--input-img-size INPUT_IMG_HEIGHT INPUT_IMG_WIDTH]\n",
        "    [--perceptual-img-size EFFECTIVE_IMG_HEIGHT EFFECTIVE_IMG_WIDTH]\n",
        "    [--mask-size MASK_HEIGHT MASK_WIDTH]\n",
        "    [--learning-rate LEARNING_RATE]\n",
        "    [--total-iterations TOTAL_ITERATIONS]\"\"\"\n",
        "\n",
        "import numpy as np\n",
        "import tensorflow as tf\n",
        "import cv2\n",
        "\n",
        "import dnnlib\n",
        "import dnnlib.tflib as tflib\n",
        "import config\n",
        "\n",
        "from perceptual_model import PerceptualModel\n",
        "\n",
        "STYLEGAN_MODEL_URL = 'https://drive.google.com/uc?id=1MEGjdvVpUsu1jB4zrXZN7Y4kBBOzizDQ'\n",
        "\n",
        "\n",
        "\n",
        "def generate_random_mask(img_shape, mask_size):\n",
        "    mask_2d = np.ones(img_shape, dtype=np.uint8)\n",
        "\n",
        "    vq = img_shape[0] // 4\n",
        "    top = np.random.randint(low=vq, high=3 * vq - mask_size[0])\n",
        "\n",
        "    hq = img_shape[1] // 4\n",
        "    left = np.random.randint(low=hq, high=3 * hq - mask_size[1])\n",
        "\n",
        "    mask_2d[top:top + mask_size[0], left:left + mask_size[1]] = 0\n",
        "\n",
        "    return mask_2d[..., np.newaxis]\n",
        "\n",
        "\n",
        "def optimize_latent_codes(args):\n",
        "    tflib.init_tf()\n",
        "\n",
        "    with open('karras2019stylegan-ffhq-1024x1024.pkl', \"rb\") as f:\n",
        "        _G, _D, Gs = pickle.load(f)\n",
        "    with tf.variable_scope(tf.get_variable_scope(), reuse=tf.AUTO_REUSE):\n",
        "        latent_code = tf.get_variable(\n",
        "        name='latent_code', shape=(1, 18, 512), dtype='float32', initializer=tf.initializers.zeros())\n",
        "\n",
        "    generated_img = Gs.components.synthesis.get_output_for(latent_code, randomize_noise=False)\n",
        "    generated_img = tf.transpose(generated_img, [0, 2, 3, 1])\n",
        "    generated_img = ((generated_img + 1) / 2) * 255\n",
        "\n",
        "    original_img = tf.placeholder(tf.float32, [None, args.input_img_size[0], args.input_img_size[1], 3])\n",
        "    degradation_mask = tf.placeholder(tf.float32, [None, args.input_img_size[0], args.input_img_size[1], 1])\n",
        "\n",
        "    degraded_img_resized_for_perceptual = tf.image.resize_images(\n",
        "        original_img * degradation_mask, tuple(args.perceptual_img_size), method=tf.image.ResizeMethod.NEAREST_NEIGHBOR\n",
        "    )\n",
        "\n",
        "    generated_img_resized_to_original = tf.image.resize_images(\n",
        "        generated_img, tuple(args.input_img_size), method=tf.image.ResizeMethod.NEAREST_NEIGHBOR\n",
        "    )\n",
        "\n",
        "    generated_img_resized_for_perceptual = tf.image.resize_images(\n",
        "        generated_img_resized_to_original * degradation_mask, tuple(args.perceptual_img_size), method=tf.image.ResizeMethod.NEAREST_NEIGHBOR\n",
        "    )\n",
        "\n",
        "    generated_img_for_display = tf.saturate_cast(generated_img_resized_to_original, tf.uint8)\n",
        "\n",
        "    perceptual_model = PerceptualModel(img_size=args.perceptual_img_size)\n",
        "    print(\"generated_img_resized_for_perceptual:\", generated_img_resized_for_perceptual.shape)\n",
        "    generated_img_features = perceptual_model(generated_img_resized_for_perceptual)\n",
        "    print(\"degraded_img_resized_for_perceptual:\",degraded_img_resized_for_perceptual)\n",
        "    target_img_features = perceptual_model(degraded_img_resized_for_perceptual)\n",
        "\n",
        "    loss_op = tf.reduce_mean(tf.abs(generated_img_features - target_img_features))\n",
        "\n",
        "    optimizer = tf.train.GradientDescentOptimizer(learning_rate=args.learning_rate)\n",
        "    train_op = optimizer.minimize(loss_op, var_list=[latent_code])\n",
        "\n",
        "    sess = tf.get_default_session()\n",
        "\n",
        "    img_names = sorted(os.listdir(args.imgs_dir))\n",
        "    for img_name in img_names:\n",
        "        img = imageio.imread(os.path.join(args.imgs_dir, img_name))\n",
        "        img = cv2.resize(img, dsize=tuple(args.input_img_size))\n",
        "        mask = generate_random_mask(img.shape[:2], mask_size=args.mask_size)\n",
        "\n",
        "        corrupted_img = img * mask\n",
        "\n",
        "        imageio.imwrite(os.path.join(args.corruptions_dir, img_name), corrupted_img)\n",
        "        imageio.imwrite(os.path.join(args.masks_dir, img_name), mask * 255)\n",
        "\n",
        "        sess.run(tf.variables_initializer([latent_code] + optimizer.variables()))\n",
        "\n",
        "        progress_bar_iterator = tqdm(\n",
        "            iterable=range(args.total_iterations),\n",
        "            bar_format='{desc}: {percentage:3.0f}% |{bar}| {n_fmt}/{total_fmt}{postfix}',\n",
        "            desc=img_name\n",
        "        )\n",
        "\n",
        "        for i in progress_bar_iterator:\n",
        "            loss, _ = sess.run(\n",
        "                fetches=[loss_op, train_op],\n",
        "                feed_dict={\n",
        "                    original_img: img[np.newaxis, ...],\n",
        "                    degradation_mask: mask[np.newaxis, ...]\n",
        "                }\n",
        "            )\n",
        "\n",
        "            progress_bar_iterator.set_postfix_str('loss=%.2f' % loss)\n",
        "        reconstructed_imgs, latent_codes = sess.run(\n",
        "            fetches=[generated_img_for_display, latent_code],\n",
        "            feed_dict={\n",
        "                original_img: img[np.newaxis, ...],\n",
        "                degradation_mask: mask[np.newaxis, ...]\n",
        "            }\n",
        "        )\n",
        "\n",
        "        imageio.imwrite(os.path.join(args.restorations_dir, img_name), reconstructed_imgs[0])\n",
        "        np.savez(file=os.path.join(args.latents_dir, img_name + '.npz'), latent_code=latent_codes[0])\n",
        "\n",
        "\n",
        "\n"
      ],
      "execution_count": null,
      "outputs": []
    },
    {
      "cell_type": "code",
      "metadata": {
        "id": "45zO609LnynF",
        "colab_type": "code",
        "colab": {}
      },
      "source": [
        "def conv_image(image, kernel_2d):\n",
        "    kernel_2d = tf.squeeze(kernel_2d)\n",
        "    image = tf.squeeze(image)\n",
        "    print(\"iamge shape: \", image.shape)\n",
        "    print(\"kernal shape: \", kernel_2d.shape)\n",
        "    gauss_kernel = tf.tile(kernel_2d[:, :, tf.newaxis, tf.newaxis], [1, 1, 3, 1]) # 5*5*3*1\n",
        "\n",
        "    # Pointwise filter that does nothing\n",
        "    pointwise_filter = tf.eye(3, batch_shape=[1, 1])\n",
        "    image = tf.expand_dims(image, 0)\n",
        "    image = tf.nn.separable_conv2d(image, gauss_kernel, pointwise_filter,\n",
        "                                  strides=[1, 1, 1, 1], padding='SAME')\n",
        "    image = tf.squeeze(image)\n",
        "    return image \n",
        "\n",
        "\n",
        "\n",
        "def optimize_latent_for_deblur(args):\n",
        "    tflib.init_tf()\n",
        "\n",
        "    with open('karras2019stylegan-ffhq-1024x1024.pkl', \"rb\") as f:\n",
        "        _G, _D, Gs = pickle.load(f)\n",
        "    with tf.variable_scope(tf.get_variable_scope(), reuse=tf.AUTO_REUSE):\n",
        "        latent_code = tf.get_variable(\n",
        "        name='latent_code', shape=(1, 18, 512), dtype='float32', initializer=tf.initializers.zeros())\n",
        "\n",
        "    generated_img = Gs.components.synthesis.get_output_for(latent_code, randomize_noise=False)\n",
        "    generated_img = tf.transpose(generated_img, [0, 2, 3, 1])\n",
        "    generated_img = ((generated_img + 1) / 2) * 255\n",
        "\n",
        "    original_img = tf.placeholder(tf.float32, [ args.input_img_size[0], args.input_img_size[1], 3])\n",
        "    degradation_mask = tf.placeholder(tf.float32, [ args.mask_size[0], args.mask_size[1], 1])\n",
        "    print(degradation_mask.shape)\n",
        "    print(original_img.shape)\n",
        "    degraded_img_resized_for_perceptual = tf.image.resize_images(\n",
        "        conv_image(original_img , degradation_mask), tuple(args.perceptual_img_size), method=tf.image.ResizeMethod.NEAREST_NEIGHBOR)\n",
        "\n",
        "    generated_img_resized_to_original = tf.image.resize_images(\n",
        "        generated_img, tuple(args.input_img_size), method=tf.image.ResizeMethod.NEAREST_NEIGHBOR\n",
        "    )\n",
        "\n",
        "\n",
        "    \n",
        "    generated_img_resized_for_perceptual = tf.image.resize_images(\n",
        "         conv_image(generated_img_resized_to_original,degradation_mask), tuple(args.perceptual_img_size), method=tf.image.ResizeMethod.NEAREST_NEIGHBOR\n",
        "    )\n",
        "\n",
        "    generated_img_for_display = tf.saturate_cast(generated_img_resized_to_original, tf.uint8)\n",
        "\n",
        "    perceptual_model = PerceptualModel(img_size=args.perceptual_img_size)\n",
        "    generated_img_resized_for_perceptual = generated_img_resized_for_perceptual[tf.newaxis, ...]\n",
        "    print(\"generated_img_resized_for_perceptual:\", generated_img_resized_for_perceptual.shape)\n",
        "    generated_img_features = perceptual_model(generated_img_resized_for_perceptual)\n",
        "    print(\"degraded_img_resized_for_perceptual:\",degraded_img_resized_for_perceptual)\n",
        "    target_img_features = perceptual_model(degraded_img_resized_for_perceptual[tf.newaxis, ...])\n",
        "\n",
        "    loss_op = tf.reduce_mean(tf.abs(generated_img_features - target_img_features))\n",
        "\n",
        "    optimizer = tf.train.GradientDescentOptimizer(learning_rate=args.learning_rate)\n",
        "    train_op = optimizer.minimize(loss_op, var_list=[latent_code])\n",
        "\n",
        "    sess = tf.get_default_session()\n",
        "\n",
        "    img_names = sorted(os.listdir(args.imgs_dir))\n",
        "    for img_name in img_names:\n",
        "        img = imageio.imread(os.path.join(args.imgs_dir, img_name))\n",
        "        img = cv2.resize(img, dsize=tuple(args.input_img_size))\n",
        "        mask = args.kernel\n",
        "        img = img.astype(np.float32)\n",
        "        corrupted_img = conv_image(img , mask).eval()\n",
        "\n",
        "        imageio.imwrite(os.path.join(args.corruptions_dir, img_name), corrupted_img)\n",
        "        imageio.imwrite(os.path.join(args.masks_dir, img_name), mask * 255)\n",
        "\n",
        "        sess.run(tf.variables_initializer([latent_code] + optimizer.variables()))\n",
        "\n",
        "        progress_bar_iterator = tqdm(\n",
        "            iterable=range(args.total_iterations),\n",
        "            bar_format='{desc}: {percentage:3.0f}% |{bar}| {n_fmt}/{total_fmt}{postfix}',\n",
        "            desc=img_name\n",
        "        )\n",
        "\n",
        "        for i in progress_bar_iterator:\n",
        "            loss, _ = sess.run(\n",
        "                fetches=[loss_op, train_op],\n",
        "                feed_dict={\n",
        "                    original_img: img,\n",
        "                    degradation_mask: mask[..., np.newaxis]\n",
        "                }\n",
        "            )\n",
        "\n",
        "            progress_bar_iterator.set_postfix_str('loss=%.2f' % loss)\n",
        "        reconstructed_imgs, latent_codes = sess.run(\n",
        "            fetches=[generated_img_for_display, latent_code],\n",
        "            feed_dict={\n",
        "                original_img: img,\n",
        "                degradation_mask: mask[..., np.newaxis]\n",
        "            }\n",
        "        )\n",
        "\n",
        "        imageio.imwrite(os.path.join(args.restorations_dir, img_name), reconstructed_imgs[0])\n",
        "        np.savez(file=os.path.join(args.latents_dir, img_name + '.npz'), latent_code=latent_codes[0])"
      ],
      "execution_count": null,
      "outputs": []
    },
    {
      "cell_type": "code",
      "metadata": {
        "id": "Pi74wGsJlsQX",
        "colab_type": "code",
        "colab": {}
      },
      "source": [
        "A = np.array([[[1,1,1],[1,1,1],[1,1,1]],[[1,1,1],[1,1,1],[1,1,1]],[[1,1,1],[1,1,1],[1,1,1]]])\n",
        "B = np.array([[2,2,],[2,2]])\n",
        "\n",
        "kernel_2d = tf.constant(B, dtype=tf.float32)\n",
        "image = tf.constant(A, dtype=tf.float32)\n",
        "# print(kernel_2d.shape)\n",
        "# print(image.shape)\n",
        "# gauss_kernel = tf.tile(kernel_2d[:, :, tf.newaxis, tf.newaxis], [1, 1, 3, 1]) # 5*5*3*1\n",
        "\n",
        "# # Pointwise filter that does nothing\n",
        "# pointwise_filter = tf.eye(3, batch_shape=[1, 1])\n",
        "# image = tf.expand_dims(image, 0)\n",
        "# print(image.shape)\n",
        "# print(gauss_kernel.shape)\n",
        "# image = tf.nn.separable_conv2d(image, gauss_kernel, pointwise_filter,\n",
        "#                                strides=[1, 1, 1, 1], padding='SAME')\n",
        "# image = tf.squeeze(image) \n",
        "# print(image.shape)\n",
        "\n",
        "\n",
        "# image.eval()\n",
        "print(image.shape)\n",
        "print(tf.expand_dims(image, 0).shape)\n",
        "\n"
      ],
      "execution_count": null,
      "outputs": []
    },
    {
      "cell_type": "code",
      "metadata": {
        "id": "V5ZXnOeKGMmM",
        "colab_type": "code",
        "colab": {}
      },
      "source": [
        "\n",
        "class HackArgs():\n",
        "  def __init__(self):\n",
        "    os.makedirs(self.masks_dir, exist_ok=True)\n",
        "    os.makedirs(self.corruptions_dir, exist_ok=True)\n",
        "    os.makedirs(self.restorations_dir, exist_ok=True)\n",
        "    os.makedirs(self.latents_dir, exist_ok=True)\n",
        "  input_img_size = (256, 256)\n",
        "  perceptual_img_size= (256, 256)\n",
        "  mask_size = (64,64)\n",
        "  learning_rate = 1e-2\n",
        "  total_iterations = 1000\n",
        "  mask_size = (5,5)\n",
        "\n",
        "  imgs_dir= 'imgs_dir'\n",
        "  masks_dir = 'masks_dir'\n",
        "  corruptions_dir= 'corruptions_dir'\n",
        "  restorations_dir= 'restorations_dir' \n",
        "  latents_dir= 'latents_dir' \n",
        "  kernel = gen_gaussian_kernel(21, 1)\n",
        "\n",
        "args = HackArgs()\n",
        "optimize_latent_for_deblur(args)"
      ],
      "execution_count": null,
      "outputs": []
    },
    {
      "cell_type": "code",
      "metadata": {
        "id": "G6m0k3lk03OV",
        "colab_type": "code",
        "colab": {}
      },
      "source": [
        "from skimage import color\n",
        "from skimage.transform import resize\n",
        "def im_to_kernel(path, size=21):\n",
        "    kernel = plt.imread(path)\n",
        "    kernel = color.rgb2gray(kernel)\n",
        "    kernel = np.squeeze(kernel)\n",
        "    assert len(kernel.shape) == 2\n",
        "\n",
        "    resized = resize(kernel, (size, size), mode='constant')\n",
        "\n",
        "    normalized = resized / np.max(resized)\n",
        "\n",
        "    kernel = normalized / np.sum(normalized)\n",
        "\n",
        "    assert np.abs(np.sum(kernel) - 1.0) < 0.01\n",
        "\n",
        "    return kernel"
      ],
      "execution_count": null,
      "outputs": []
    },
    {
      "cell_type": "code",
      "metadata": {
        "id": "dUDy9mUK095k",
        "colab_type": "code",
        "colab": {}
      },
      "source": [
        ""
      ],
      "execution_count": null,
      "outputs": []
    }
  ]
}